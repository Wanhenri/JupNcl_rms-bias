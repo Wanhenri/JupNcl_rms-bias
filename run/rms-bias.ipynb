{
 "cells": [
  {
   "cell_type": "code",
   "execution_count": null,
   "metadata": {},
   "outputs": [],
   "source": []
  },
  {
   "cell_type": "code",
   "execution_count": 6,
   "metadata": {},
   "outputs": [],
   "source": [
    ";  ;>>>SMG v 2.0.0\n",
    ";  arq_SMG_1 = addfile (\"MAY2015_24Z_12Z_SMG.nc\", \"r\")\n",
    ";  arq_SMG_2 = addfile (\"MAY2015_48Z_12Z_SMG.nc\", \"r\")\n",
    ";  arq_SMG_3 = addfile (\"MAY2015_72Z_12Z_SMG.nc\", \"r\")\n",
    ";    new1_24=arq_SMG_1->prec\n",
    ";    new1_48=arq_SMG_2->prec\n",
    ";    new1_72=arq_SMG_3->prec\n",
    ";      new1_24@_FillValue=-9.99e+08\n",
    ";      new1_48@_FillValue=-9.99e+08\n",
    ";      new1_72@_FillValue=-9.99e+08"
   ]
  },
  {
   "cell_type": "code",
   "execution_count": null,
   "metadata": {},
   "outputs": [],
   "source": []
  },
  {
   "cell_type": "code",
   "execution_count": 3,
   "metadata": {},
   "outputs": [],
   "source": [
    "  ;>>>SMG v 2.1.0\n",
    "  arq_SMG_1 = addfile (\"MAY2015_24Z_12Z_SMG_versao210.nc\", \"r\")\n",
    "  arq_SMG_2 = addfile (\"MAY2015_48Z_12Z_SMG_versao210.nc\", \"r\")\n",
    "  arq_SMG_3 = addfile (\"MAY2015_72Z_12Z_SMG_versao210.nc\", \"r\")\n",
    "    new1_24=arq_SMG_1->prec\n",
    "    new1_48=arq_SMG_2->prec\n",
    "    new1_72=arq_SMG_3->prec\n",
    "       new1_24@_FillValue=-9.99e+08\n",
    "       new1_48@_FillValue=-9.99e+08\n",
    "       new1_72@_FillValue=-9.99e+08"
   ]
  },
  {
   "cell_type": "code",
   "execution_count": null,
   "metadata": {},
   "outputs": [],
   "source": []
  },
  {
   "cell_type": "code",
   "execution_count": null,
   "metadata": {},
   "outputs": [],
   "source": []
  },
  {
   "cell_type": "code",
   "execution_count": 4,
   "metadata": {},
   "outputs": [],
   "source": [
    "  ;>>>NCEP\n",
    "  arq_NCEP_1 = addfile (\"MAY2015_24Z_12Z_NCEP.nc\", \"r\")\n",
    "  arq_NCEP_2 = addfile (\"MAY2015_48Z_12Z_NCEP.nc\", \"r\")\n",
    "  arq_NCEP_3 = addfile (\"MAY2015_72Z_12Z_NCEP.nc\", \"r\")\n",
    "    new2_24=arq_NCEP_1->prec\n",
    "    new2_48=arq_NCEP_2->prec\n",
    "    new2_72=arq_NCEP_3->prec\n",
    "      new2_24@_FillValue=-9.99e+08\n",
    "      new2_48@_FillValue=-9.99e+08\n",
    "      new2_72@_FillValue=-9.99e+08"
   ]
  },
  {
   "cell_type": "code",
   "execution_count": null,
   "metadata": {},
   "outputs": [],
   "source": []
  },
  {
   "cell_type": "code",
   "execution_count": null,
   "metadata": {},
   "outputs": [],
   "source": []
  },
  {
   "cell_type": "code",
   "execution_count": 5,
   "metadata": {},
   "outputs": [],
   "source": [
    "  ;>>>GFS\n",
    "  arq_GFS_1 = addfile (\"prev.2015.mar.24h_seldate.nc\", \"r\")\n",
    "  arq_GFS_2 = addfile (\"prev.2015.mar.48h_seldate.nc\", \"r\")\n",
    "  arq_GFS_3 = addfile (\"prev.2015.mar.72h_seldate.nc\", \"r\")\n",
    "    gfs_24=arq_GFS_1->APCP_surface\n",
    "    gfs_48=arq_GFS_2->APCP_surface\n",
    "    gfs_72=arq_GFS_3->APCP_surface\n",
    "      gfs_24@_FillValue=-9.99e+08\n",
    "      gfs_48@_FillValue=-9.99e+08\n",
    "      gfs_72@_FillValue=-9.99e+08"
   ]
  },
  {
   "cell_type": "code",
   "execution_count": null,
   "metadata": {},
   "outputs": [],
   "source": []
  },
  {
   "cell_type": "code",
   "execution_count": null,
   "metadata": {},
   "outputs": [],
   "source": []
  },
  {
   "cell_type": "code",
   "execution_count": 6,
   "metadata": {},
   "outputs": [],
   "source": [
    ";>>>IMERG\n",
    " arq_IMERG_1 = addfile (\"GPM_REC_ACUM_24h_grib2.nc\", \"r\")\n",
    " tmpa=arq_IMERG_1->PREC_surface"
   ]
  },
  {
   "cell_type": "code",
   "execution_count": 7,
   "metadata": {},
   "outputs": [
    {
     "name": "stdout",
     "output_type": "stream",
     "text": [
      "(0)\trecorte la plata OK\n",
      "(0)\trecorte sudeste OK\n",
      "(0)\trecorte centralw OK\n",
      "(0)\trecorte nordeste OK\n",
      "(0)\trecorte amazon OK\n",
      "(0)\trms la plata OK\n",
      "(0)\trms sudeste OK\n",
      "(0)\trms centralw OK\n",
      "(0)\trms nordeste OK\n",
      "(0)\trms amazon OK(0)\tOK\n",
      "(0)\tOK\n",
      "(0)\tOK"
     ]
    }
   ],
   "source": [
    "load \"rms_read_calc.ncl\"\n",
    "load \"rms-bias-grafics-br.ncl\""
   ]
  },
  {
   "cell_type": "markdown",
   "metadata": {},
   "source": [
    "<!DOCTYPE html>\n",
    "<html>\n",
    "<head>    \n",
    "</head>    \n",
    "<body>\n",
    "    <h2 style=\"color:blue;\" align=\"center\">RMS-BIAS - SMG v2.0.0</h2>    \n",
    "</body>\n",
    "</html>"
   ]
  },
  {
   "cell_type": "markdown",
   "metadata": {},
   "source": [
    "<!DOCTYPE html>\n",
    "<html>\n",
    "<head>\n",
    "</head>\n",
    "    <body>\n",
    "        <img src=\"rms-bias-br_new_SMG_v200.png\">\n",
    "    </body>\n",
    "</html>"
   ]
  },
  {
   "cell_type": "markdown",
   "metadata": {},
   "source": [
    "<!DOCTYPE html>\n",
    "<html>\n",
    "<head>    \n",
    "</head>    \n",
    "<body>\n",
    "    <h2 style=\"color:blue;\" align=\"center\">RMS-BIAS - SMG v2.1.0</h2>    \n",
    "</body>\n",
    "</html>"
   ]
  },
  {
   "cell_type": "markdown",
   "metadata": {},
   "source": [
    "<!DOCTYPE html>\n",
    "<html>\n",
    "<head>\n",
    "</head>\n",
    "    <body>\n",
    "        <img src=\"rms-bias-br_new_SMG_v210.png\">\n",
    "    </body>\n",
    "</html>"
   ]
  },
  {
   "cell_type": "code",
   "execution_count": null,
   "metadata": {},
   "outputs": [],
   "source": []
  }
 ],
 "metadata": {
  "kernelspec": {
   "display_name": "NCL",
   "language": "ncl",
   "name": "ncl_kernel"
  },
  "language_info": {
   "file_extension": ".ncl",
   "mimetype": "text/plain",
   "name": "ncl"
  }
 },
 "nbformat": 4,
 "nbformat_minor": 2
}
